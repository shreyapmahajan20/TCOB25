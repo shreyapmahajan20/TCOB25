{
 "cells": [
  {
   "cell_type": "code",
   "execution_count": 1,
   "id": "5311829b-2983-4392-8be2-42284eb585d5",
   "metadata": {},
   "outputs": [
    {
     "data": {
      "text/html": [
       "<div>\n",
       "<style scoped>\n",
       "    .dataframe tbody tr th:only-of-type {\n",
       "        vertical-align: middle;\n",
       "    }\n",
       "\n",
       "    .dataframe tbody tr th {\n",
       "        vertical-align: top;\n",
       "    }\n",
       "\n",
       "    .dataframe thead th {\n",
       "        text-align: right;\n",
       "    }\n",
       "</style>\n",
       "<table border=\"1\" class=\"dataframe\">\n",
       "  <thead>\n",
       "    <tr style=\"text-align: right;\">\n",
       "      <th></th>\n",
       "      <th>S. No.</th>\n",
       "      <th>Percentage in Grade 10</th>\n",
       "      <th>Salary</th>\n",
       "    </tr>\n",
       "  </thead>\n",
       "  <tbody>\n",
       "    <tr>\n",
       "      <th>0</th>\n",
       "      <td>1</td>\n",
       "      <td>62.00</td>\n",
       "      <td>270000</td>\n",
       "    </tr>\n",
       "    <tr>\n",
       "      <th>1</th>\n",
       "      <td>2</td>\n",
       "      <td>76.33</td>\n",
       "      <td>200000</td>\n",
       "    </tr>\n",
       "    <tr>\n",
       "      <th>2</th>\n",
       "      <td>3</td>\n",
       "      <td>72.00</td>\n",
       "      <td>240000</td>\n",
       "    </tr>\n",
       "    <tr>\n",
       "      <th>3</th>\n",
       "      <td>4</td>\n",
       "      <td>60.00</td>\n",
       "      <td>250000</td>\n",
       "    </tr>\n",
       "    <tr>\n",
       "      <th>4</th>\n",
       "      <td>5</td>\n",
       "      <td>61.00</td>\n",
       "      <td>180000</td>\n",
       "    </tr>\n",
       "    <tr>\n",
       "      <th>5</th>\n",
       "      <td>6</td>\n",
       "      <td>55.00</td>\n",
       "      <td>300000</td>\n",
       "    </tr>\n",
       "    <tr>\n",
       "      <th>6</th>\n",
       "      <td>7</td>\n",
       "      <td>70.00</td>\n",
       "      <td>260000</td>\n",
       "    </tr>\n",
       "    <tr>\n",
       "      <th>7</th>\n",
       "      <td>8</td>\n",
       "      <td>68.00</td>\n",
       "      <td>235000</td>\n",
       "    </tr>\n",
       "    <tr>\n",
       "      <th>8</th>\n",
       "      <td>9</td>\n",
       "      <td>82.80</td>\n",
       "      <td>425000</td>\n",
       "    </tr>\n",
       "    <tr>\n",
       "      <th>9</th>\n",
       "      <td>10</td>\n",
       "      <td>59.00</td>\n",
       "      <td>240000</td>\n",
       "    </tr>\n",
       "  </tbody>\n",
       "</table>\n",
       "</div>"
      ],
      "text/plain": [
       "   S. No.  Percentage in Grade 10  Salary\n",
       "0       1                   62.00  270000\n",
       "1       2                   76.33  200000\n",
       "2       3                   72.00  240000\n",
       "3       4                   60.00  250000\n",
       "4       5                   61.00  180000\n",
       "5       6                   55.00  300000\n",
       "6       7                   70.00  260000\n",
       "7       8                   68.00  235000\n",
       "8       9                   82.80  425000\n",
       "9      10                   59.00  240000"
      ]
     },
     "execution_count": 1,
     "metadata": {},
     "output_type": "execute_result"
    }
   ],
   "source": [
    "import pandas as pd\n",
    "import numpy as np\n",
    "np.set_printoptions(precision=4, linewidth=100)\n",
    "mba_salary_df = pd.read_csv( \"C:\\Jupyter Notebook\\DSDBA\\MBA Salary.csv\" )\n",
    "mba_salary_df.head( 10 )"
   ]
  },
  {
   "cell_type": "code",
   "execution_count": 2,
   "id": "a5990dad-1718-4472-862b-2f16ef6dcc53",
   "metadata": {},
   "outputs": [
    {
     "name": "stdout",
     "output_type": "stream",
     "text": [
      "<class 'pandas.core.frame.DataFrame'>\n",
      "RangeIndex: 50 entries, 0 to 49\n",
      "Data columns (total 3 columns):\n",
      " #   Column                  Non-Null Count  Dtype  \n",
      "---  ------                  --------------  -----  \n",
      " 0   S. No.                  50 non-null     int64  \n",
      " 1   Percentage in Grade 10  50 non-null     float64\n",
      " 2   Salary                  50 non-null     int64  \n",
      "dtypes: float64(1), int64(2)\n",
      "memory usage: 1.3 KB\n"
     ]
    }
   ],
   "source": [
    "mba_salary_df.info()"
   ]
  },
  {
   "cell_type": "code",
   "execution_count": 7,
   "id": "7d8c351f-9f18-47cb-8869-84df8540ab6b",
   "metadata": {},
   "outputs": [
    {
     "name": "stdout",
     "output_type": "stream",
     "text": [
      "Collecting statsmodels\n",
      "  Downloading statsmodels-0.14.4-cp311-cp311-win_amd64.whl.metadata (9.5 kB)\n",
      "Requirement already satisfied: numpy<3,>=1.22.3 in c:\\users\\hp\\appdata\\local\\programs\\python\\python311\\lib\\site-packages (from statsmodels) (2.2.2)\n",
      "Requirement already satisfied: scipy!=1.9.2,>=1.8 in c:\\users\\hp\\appdata\\local\\programs\\python\\python311\\lib\\site-packages (from statsmodels) (1.15.1)\n",
      "Requirement already satisfied: pandas!=2.1.0,>=1.4 in c:\\users\\hp\\appdata\\local\\programs\\python\\python311\\lib\\site-packages (from statsmodels) (2.2.3)\n",
      "Collecting patsy>=0.5.6 (from statsmodels)\n",
      "  Downloading patsy-1.0.1-py2.py3-none-any.whl.metadata (3.3 kB)\n",
      "Requirement already satisfied: packaging>=21.3 in c:\\users\\hp\\appdata\\local\\programs\\python\\python311\\lib\\site-packages (from statsmodels) (24.1)\n",
      "Requirement already satisfied: python-dateutil>=2.8.2 in c:\\users\\hp\\appdata\\local\\programs\\python\\python311\\lib\\site-packages (from pandas!=2.1.0,>=1.4->statsmodels) (2.9.0.post0)\n",
      "Requirement already satisfied: pytz>=2020.1 in c:\\users\\hp\\appdata\\local\\programs\\python\\python311\\lib\\site-packages (from pandas!=2.1.0,>=1.4->statsmodels) (2024.2)\n",
      "Requirement already satisfied: tzdata>=2022.7 in c:\\users\\hp\\appdata\\local\\programs\\python\\python311\\lib\\site-packages (from pandas!=2.1.0,>=1.4->statsmodels) (2025.1)\n",
      "Requirement already satisfied: six>=1.5 in c:\\users\\hp\\appdata\\local\\programs\\python\\python311\\lib\\site-packages (from python-dateutil>=2.8.2->pandas!=2.1.0,>=1.4->statsmodels) (1.16.0)\n",
      "Downloading statsmodels-0.14.4-cp311-cp311-win_amd64.whl (9.9 MB)\n",
      "   ---------------------------------------- 0.0/9.9 MB ? eta -:--:--\n",
      "   ---------------------------------- ----- 8.4/9.9 MB 43.5 MB/s eta 0:00:01\n",
      "   ---------------------------------------- 9.9/9.9 MB 44.0 MB/s eta 0:00:00\n",
      "Downloading patsy-1.0.1-py2.py3-none-any.whl (232 kB)\n",
      "Installing collected packages: patsy, statsmodels\n",
      "Successfully installed patsy-1.0.1 statsmodels-0.14.4\n"
     ]
    },
    {
     "name": "stderr",
     "output_type": "stream",
     "text": [
      "\n",
      "[notice] A new release of pip is available: 25.0 -> 25.0.1\n",
      "[notice] To update, run: C:\\Users\\hp\\AppData\\Local\\Programs\\Python\\Python311\\python.exe -m pip install --upgrade pip\n"
     ]
    }
   ],
   "source": [
    "!pip install statsmodels\n"
   ]
  },
  {
   "cell_type": "code",
   "execution_count": 10,
   "id": "bd6535e5-a395-4e4c-8df5-c2a6175ed851",
   "metadata": {},
   "outputs": [
    {
     "name": "stderr",
     "output_type": "stream",
     "text": [
      "'conda' is not recognized as an internal or external command,\n",
      "operable program or batch file.\n"
     ]
    }
   ],
   "source": [
    "!conda install -c conda-forge statsmodels -y\n"
   ]
  },
  {
   "cell_type": "code",
   "execution_count": 11,
   "id": "454a31a7-d037-4084-b23f-b1e3d080a7d6",
   "metadata": {},
   "outputs": [
    {
     "data": {
      "text/html": [
       "<div>\n",
       "<style scoped>\n",
       "    .dataframe tbody tr th:only-of-type {\n",
       "        vertical-align: middle;\n",
       "    }\n",
       "\n",
       "    .dataframe tbody tr th {\n",
       "        vertical-align: top;\n",
       "    }\n",
       "\n",
       "    .dataframe thead th {\n",
       "        text-align: right;\n",
       "    }\n",
       "</style>\n",
       "<table border=\"1\" class=\"dataframe\">\n",
       "  <thead>\n",
       "    <tr style=\"text-align: right;\">\n",
       "      <th></th>\n",
       "      <th>const</th>\n",
       "      <th>Percentage in Grade 10</th>\n",
       "    </tr>\n",
       "  </thead>\n",
       "  <tbody>\n",
       "    <tr>\n",
       "      <th>0</th>\n",
       "      <td>1.0</td>\n",
       "      <td>62.00</td>\n",
       "    </tr>\n",
       "    <tr>\n",
       "      <th>1</th>\n",
       "      <td>1.0</td>\n",
       "      <td>76.33</td>\n",
       "    </tr>\n",
       "    <tr>\n",
       "      <th>2</th>\n",
       "      <td>1.0</td>\n",
       "      <td>72.00</td>\n",
       "    </tr>\n",
       "    <tr>\n",
       "      <th>3</th>\n",
       "      <td>1.0</td>\n",
       "      <td>60.00</td>\n",
       "    </tr>\n",
       "    <tr>\n",
       "      <th>4</th>\n",
       "      <td>1.0</td>\n",
       "      <td>61.00</td>\n",
       "    </tr>\n",
       "  </tbody>\n",
       "</table>\n",
       "</div>"
      ],
      "text/plain": [
       "   const  Percentage in Grade 10\n",
       "0    1.0                   62.00\n",
       "1    1.0                   76.33\n",
       "2    1.0                   72.00\n",
       "3    1.0                   60.00\n",
       "4    1.0                   61.00"
      ]
     },
     "execution_count": 11,
     "metadata": {},
     "output_type": "execute_result"
    }
   ],
   "source": [
    "import statsmodels.api as sm\n",
    "X = sm.add_constant( mba_salary_df['Percentage in Grade 10'] )\n",
    "X.head(5)"
   ]
  },
  {
   "cell_type": "code",
   "execution_count": 14,
   "id": "71bee148-01f4-4736-a2d0-de02775caba7",
   "metadata": {},
   "outputs": [
    {
     "name": "stdout",
     "output_type": "stream",
     "text": [
      "0     270000\n",
      "1     200000\n",
      "2     240000\n",
      "3     250000\n",
      "4     180000\n",
      "5     300000\n",
      "6     260000\n",
      "7     235000\n",
      "8     425000\n",
      "9     240000\n",
      "10    250000\n",
      "11    180000\n",
      "12    428000\n",
      "13    450000\n",
      "14    300000\n",
      "15    240000\n",
      "16    252000\n",
      "17    280000\n",
      "18    231000\n",
      "19    224000\n",
      "20    120000\n",
      "21    260000\n",
      "22    300000\n",
      "23    120000\n",
      "24    120000\n",
      "25    250000\n",
      "26    180000\n",
      "27    218000\n",
      "28    360000\n",
      "29    150000\n",
      "30    250000\n",
      "31    200000\n",
      "32    300000\n",
      "33    330000\n",
      "34    265000\n",
      "35    340000\n",
      "36    177600\n",
      "37    236000\n",
      "38    265000\n",
      "39    200000\n",
      "40    393000\n",
      "41    360000\n",
      "42    300000\n",
      "43    250000\n",
      "44    360000\n",
      "45    180000\n",
      "46    180000\n",
      "47    270000\n",
      "48    240000\n",
      "49    300000\n",
      "Name: Salary, dtype: int64\n"
     ]
    }
   ],
   "source": [
    "Y = mba_salary_df['Salary']\n",
    "print(Y)"
   ]
  },
  {
   "cell_type": "code",
   "execution_count": 17,
   "id": "cd7d34d7-4906-439b-ac77-09ad376a5e09",
   "metadata": {},
   "outputs": [
    {
     "name": "stdout",
     "output_type": "stream",
     "text": [
      "const                     30587.285652\n",
      "Percentage in Grade 10     3560.587383\n",
      "dtype: float64\n"
     ]
    }
   ],
   "source": [
    "from sklearn.model_selection import train_test_split\n",
    "train_X, test_X, train_y, test_y = train_test_split( X, Y, train_size = 0.8, random_state = 100 )\n",
    "mba_salary_lm = sm.OLS( train_y, train_X ).fit()\n",
    "print( mba_salary_lm.params )"
   ]
  },
  {
   "cell_type": "code",
   "execution_count": 19,
   "id": "1784c6b4-8e5c-43b5-865d-27356ec049d8",
   "metadata": {},
   "outputs": [
    {
     "data": {
      "text/html": [
       "<table class=\"simpletable\">\n",
       "<tr>\n",
       "        <td>Model:</td>               <td>OLS</td>         <td>Adj. R-squared:</td>      <td>0.190</td>  \n",
       "</tr>\n",
       "<tr>\n",
       "  <td>Dependent Variable:</td>      <td>Salary</td>             <td>AIC:</td>          <td>1008.8680</td>\n",
       "</tr>\n",
       "<tr>\n",
       "         <td>Date:</td>        <td>2025-03-03 12:10</td>        <td>BIC:</td>          <td>1012.2458</td>\n",
       "</tr>\n",
       "<tr>\n",
       "   <td>No. Observations:</td>         <td>40</td>          <td>Log-Likelihood:</td>     <td>-502.43</td> \n",
       "</tr>\n",
       "<tr>\n",
       "       <td>Df Model:</td>              <td>1</td>           <td>F-statistic:</td>        <td>10.16</td>  \n",
       "</tr>\n",
       "<tr>\n",
       "     <td>Df Residuals:</td>           <td>38</td>        <td>Prob (F-statistic):</td>   <td>0.00287</td> \n",
       "</tr>\n",
       "<tr>\n",
       "      <td>R-squared:</td>            <td>0.211</td>            <td>Scale:</td>        <td>5.0121e+09</td>\n",
       "</tr>\n",
       "</table>\n",
       "<table class=\"simpletable\">\n",
       "<tr>\n",
       "             <td></td>               <th>Coef.</th>    <th>Std.Err.</th>     <th>t</th>    <th>P>|t|</th>    <th>[0.025</th>      <th>0.975]</th>   \n",
       "</tr>\n",
       "<tr>\n",
       "  <th>const</th>                  <td>30587.2857</td> <td>71869.4497</td> <td>0.4256</td> <td>0.6728</td> <td>-114904.8088</td> <td>176079.3801</td>\n",
       "</tr>\n",
       "<tr>\n",
       "  <th>Percentage in Grade 10</th>  <td>3560.5874</td>  <td>1116.9258</td> <td>3.1878</td> <td>0.0029</td>   <td>1299.4892</td>   <td>5821.6855</td> \n",
       "</tr>\n",
       "</table>\n",
       "<table class=\"simpletable\">\n",
       "<tr>\n",
       "     <td>Omnibus:</td>    <td>2.048</td>  <td>Durbin-Watson:</td>   <td>2.611</td>\n",
       "</tr>\n",
       "<tr>\n",
       "  <td>Prob(Omnibus):</td> <td>0.359</td> <td>Jarque-Bera (JB):</td> <td>1.724</td>\n",
       "</tr>\n",
       "<tr>\n",
       "       <td>Skew:</td>     <td>0.369</td>     <td>Prob(JB):</td>     <td>0.422</td>\n",
       "</tr>\n",
       "<tr>\n",
       "     <td>Kurtosis:</td>   <td>2.300</td>  <td>Condition No.:</td>    <td>413</td> \n",
       "</tr>\n",
       "</table><br/>\n",
       "Notes:<br/>\n",
       "[1] Standard Errors assume that the covariance matrix of the errors is correctly specified."
      ],
      "text/latex": [
       "\\begin{table}\n",
       "\\caption{Results: Ordinary least squares}\n",
       "\\label{}\n",
       "\\begin{center}\n",
       "\\begin{tabular}{llll}\n",
       "\\hline\n",
       "Model:              & OLS              & Adj. R-squared:     & 0.190       \\\\\n",
       "Dependent Variable: & Salary           & AIC:                & 1008.8680   \\\\\n",
       "Date:               & 2025-03-03 12:10 & BIC:                & 1012.2458   \\\\\n",
       "No. Observations:   & 40               & Log-Likelihood:     & -502.43     \\\\\n",
       "Df Model:           & 1                & F-statistic:        & 10.16       \\\\\n",
       "Df Residuals:       & 38               & Prob (F-statistic): & 0.00287     \\\\\n",
       "R-squared:          & 0.211            & Scale:              & 5.0121e+09  \\\\\n",
       "\\hline\n",
       "\\end{tabular}\n",
       "\\end{center}\n",
       "\n",
       "\\begin{center}\n",
       "\\begin{tabular}{lrrrrrr}\n",
       "\\hline\n",
       "                       &      Coef. &   Std.Err. &      t & P$> |$t$|$ &       [0.025 &      0.975]  \\\\\n",
       "\\hline\n",
       "const                  & 30587.2857 & 71869.4497 & 0.4256 &      0.6728 & -114904.8088 & 176079.3801  \\\\\n",
       "Percentage in Grade 10 &  3560.5874 &  1116.9258 & 3.1878 &      0.0029 &    1299.4892 &   5821.6855  \\\\\n",
       "\\hline\n",
       "\\end{tabular}\n",
       "\\end{center}\n",
       "\n",
       "\\begin{center}\n",
       "\\begin{tabular}{llll}\n",
       "\\hline\n",
       "Omnibus:       & 2.048 & Durbin-Watson:    & 2.611  \\\\\n",
       "Prob(Omnibus): & 0.359 & Jarque-Bera (JB): & 1.724  \\\\\n",
       "Skew:          & 0.369 & Prob(JB):         & 0.422  \\\\\n",
       "Kurtosis:      & 2.300 & Condition No.:    & 413    \\\\\n",
       "\\hline\n",
       "\\end{tabular}\n",
       "\\end{center}\n",
       "\\end{table}\n",
       "\\bigskip\n",
       "Notes: \\newline \n",
       "[1] Standard Errors assume that the covariance matrix of the errors is correctly specified."
      ],
      "text/plain": [
       "<class 'statsmodels.iolib.summary2.Summary'>\n",
       "\"\"\"\n",
       "                          Results: Ordinary least squares\n",
       "===================================================================================\n",
       "Model:                    OLS                   Adj. R-squared:          0.190     \n",
       "Dependent Variable:       Salary                AIC:                     1008.8680 \n",
       "Date:                     2025-03-03 12:10      BIC:                     1012.2458 \n",
       "No. Observations:         40                    Log-Likelihood:          -502.43   \n",
       "Df Model:                 1                     F-statistic:             10.16     \n",
       "Df Residuals:             38                    Prob (F-statistic):      0.00287   \n",
       "R-squared:                0.211                 Scale:                   5.0121e+09\n",
       "-----------------------------------------------------------------------------------\n",
       "                         Coef.     Std.Err.    t    P>|t|     [0.025       0.975]  \n",
       "-----------------------------------------------------------------------------------\n",
       "const                  30587.2857 71869.4497 0.4256 0.6728 -114904.8088 176079.3801\n",
       "Percentage in Grade 10  3560.5874  1116.9258 3.1878 0.0029    1299.4892   5821.6855\n",
       "-----------------------------------------------------------------------------------\n",
       "Omnibus:                    2.048              Durbin-Watson:                 2.611\n",
       "Prob(Omnibus):              0.359              Jarque-Bera (JB):              1.724\n",
       "Skew:                       0.369              Prob(JB):                      0.422\n",
       "Kurtosis:                   2.300              Condition No.:                 413  \n",
       "===================================================================================\n",
       "Notes:\n",
       "[1] Standard Errors assume that the covariance matrix of the errors is correctly\n",
       "specified.\n",
       "\"\"\""
      ]
     },
     "execution_count": 19,
     "metadata": {},
     "output_type": "execute_result"
    }
   ],
   "source": [
    "mba_salary_lm.summary2()"
   ]
  },
  {
   "cell_type": "code",
   "execution_count": 20,
   "id": "458c72b9-fcfd-4913-8ee1-7594c792441a",
   "metadata": {},
   "outputs": [
    {
     "name": "stdout",
     "output_type": "stream",
     "text": [
      "6     279828.402452\n",
      "36    272707.227686\n",
      "37    215737.829560\n",
      "28    237101.353858\n",
      "43    295851.045675\n",
      "dtype: float64\n"
     ]
    }
   ],
   "source": [
    "pred_y = mba_salary_lm.predict(test_X)\n",
    "print(pred_y.head())"
   ]
  },
  {
   "cell_type": "code",
   "execution_count": 26,
   "id": "4c6ae3e8-87a9-4b18-b4a9-7682e2df35f5",
   "metadata": {},
   "outputs": [
    {
     "name": "stdout",
     "output_type": "stream",
     "text": [
      "R-squared: 0.21100213796791278\n"
     ]
    }
   ],
   "source": [
    "r_squared = mba_salary_lm.rsquared\n",
    "print(\"R-squared:\",r_squared)\n"
   ]
  },
  {
   "cell_type": "code",
   "execution_count": 28,
   "id": "f2e84c33-1984-47b9-abf3-3fbc03609ac8",
   "metadata": {},
   "outputs": [
    {
     "name": "stdout",
     "output_type": "stream",
     "text": [
      "Mean Squared Error (MSE): 5396084152.419214\n"
     ]
    }
   ],
   "source": [
    "from sklearn.metrics import mean_squared_error\n",
    "\n",
    "mse = mean_squared_error(test_y, pred_y)\n",
    "print(\"Mean Squared Error (MSE):\",mse)"
   ]
  },
  {
   "cell_type": "code",
   "execution_count": 34,
   "id": "324f1b7e-9a6b-409b-a16f-2b5caa40f99d",
   "metadata": {},
   "outputs": [
    {
     "data": {
      "text/plain": [
       "<Figure size 800x600 with 0 Axes>"
      ]
     },
     "metadata": {},
     "output_type": "display_data"
    },
    {
     "data": {
      "image/png": "[encoded data removed]",
      "text/plain": [
       "<Figure size 640x480 with 1 Axes>"
      ]
     },
     "metadata": {},
     "output_type": "display_data"
    }
   ],
   "source": [
    "import numpy as np\n",
    "import matplotlib.pyplot as plt\n",
    "import seaborn as sns\n",
    "import statsmodels.api as sm\n",
    "\n",
    "mba_salary_resid = mba_salary_lm.resid  \n",
    "standardized_residuals = (mba_salary_resid - np.mean(mba_salary_resid)) / np.std(mba_salary_resid)\n",
    "probplot = sm.ProbPlot(standardized_residuals)\n",
    "plt.figure(figsize=(8, 6))\n",
    "\n",
    "probplot.ppplot(line='45', markersize=6, markerfacecolor='blue', markeredgecolor='black')\n",
    "\n",
    "plt.title(\"Fig 4.1 - Normal P-P Plot of Regression Standardized Residuals\", fontsize=12, fontweight='bold')\n",
    "plt.xlabel(\"Theoretical Probabilities\")\n",
    "plt.ylabel(\"Sample Probabilities\")\n",
    "\n",
    "plt.show()"
   ]
  },
  {
   "cell_type": "code",
   "execution_count": null,
   "id": "18f6623e-2006-4d27-9f5b-b91f702e1f96",
   "metadata": {},
   "outputs": [],
   "source": []
  }
 ],
 "metadata": {
  "kernelspec": {
   "display_name": "Python 3 (ipykernel)",
   "language": "python",
   "name": "python3"
  },
  "language_info": {
   "codemirror_mode": {
    "name": "ipython",
    "version": 3
   },
   "file_extension": ".py",
   "mimetype": "text/x-python",
   "name": "python",
   "nbconvert_exporter": "python",
   "pygments_lexer": "ipython3",
   "version": "3.11.5"
  }
 },
 "nbformat": 4,
 "nbformat_minor": 5
}
